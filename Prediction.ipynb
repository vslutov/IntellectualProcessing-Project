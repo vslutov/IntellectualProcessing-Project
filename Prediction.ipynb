{
 "cells": [
  {
   "cell_type": "code",
   "execution_count": 1,
   "metadata": {
    "collapsed": true
   },
   "outputs": [],
   "source": [
    "import numpy as np\n",
    "import pandas as pd\n",
    "import matplotlib.pyplot as plt\n",
    "from tqdm import tqdm\n",
    "\n",
    "plt.style.use('ggplot')\n",
    "plt.rcParams['figure.figsize'] = (12, 6)\n",
    "\n",
    "%matplotlib inline"
   ]
  },
  {
   "cell_type": "code",
   "execution_count": 2,
   "metadata": {
    "collapsed": true
   },
   "outputs": [],
   "source": [
    "df = pd.read_csv(\"data/data.csv\", sep=\"\\t\", encoding='utf-8', index_col=0)"
   ]
  },
  {
   "cell_type": "code",
   "execution_count": 3,
   "metadata": {},
   "outputs": [
    {
     "data": {
      "text/html": [
       "<div>\n",
       "<style>\n",
       "    .dataframe thead tr:only-child th {\n",
       "        text-align: right;\n",
       "    }\n",
       "\n",
       "    .dataframe thead th {\n",
       "        text-align: left;\n",
       "    }\n",
       "\n",
       "    .dataframe tbody tr th {\n",
       "        vertical-align: top;\n",
       "    }\n",
       "</style>\n",
       "<table border=\"1\" class=\"dataframe\">\n",
       "  <thead>\n",
       "    <tr style=\"text-align: right;\">\n",
       "      <th></th>\n",
       "      <th>airport1_km</th>\n",
       "      <th>airport2_km</th>\n",
       "      <th>info</th>\n",
       "      <th>latitude</th>\n",
       "      <th>longitude</th>\n",
       "      <th>person_count</th>\n",
       "      <th>price</th>\n",
       "      <th>room_size</th>\n",
       "      <th>score</th>\n",
       "      <th>sightseen_count</th>\n",
       "      <th>url</th>\n",
       "      <th>votes</th>\n",
       "    </tr>\n",
       "  </thead>\n",
       "  <tbody>\n",
       "    <tr>\n",
       "      <th>0</th>\n",
       "      <td>96.0</td>\n",
       "      <td>46.8</td>\n",
       "      <td>\\nДвухместный номер с 2 отдельными кроватями\\n</td>\n",
       "      <td>39.863388</td>\n",
       "      <td>3.093359</td>\n",
       "      <td>2.0</td>\n",
       "      <td>20465.0</td>\n",
       "      <td>NaN</td>\n",
       "      <td>8.4</td>\n",
       "      <td>8.0</td>\n",
       "      <td>/hotel/es/pollentia-club-resort.ru.html?aid=30...</td>\n",
       "      <td>2246.0</td>\n",
       "    </tr>\n",
       "    <tr>\n",
       "      <th>1</th>\n",
       "      <td>73.3</td>\n",
       "      <td>59.3</td>\n",
       "      <td>\\nДвухместный номер с 1 кроватью или 2 отдельн...</td>\n",
       "      <td>39.636408</td>\n",
       "      <td>3.414423</td>\n",
       "      <td>2.0</td>\n",
       "      <td>11660.0</td>\n",
       "      <td>NaN</td>\n",
       "      <td>8.9</td>\n",
       "      <td>6.0</td>\n",
       "      <td>/hotel/es/eurotel-golf-punta-rotja.ru.html?aid...</td>\n",
       "      <td>922.0</td>\n",
       "    </tr>\n",
       "    <tr>\n",
       "      <th>2</th>\n",
       "      <td>92.1</td>\n",
       "      <td>43.4</td>\n",
       "      <td>\\nДвухместный номер с 2 отдельными кроватями\\n</td>\n",
       "      <td>39.770315</td>\n",
       "      <td>3.147541</td>\n",
       "      <td>2.0</td>\n",
       "      <td>15067.0</td>\n",
       "      <td>NaN</td>\n",
       "      <td>9.1</td>\n",
       "      <td>5.0</td>\n",
       "      <td>/hotel/es/santa-fe.ru.html?aid=304142;label=ge...</td>\n",
       "      <td>501.0</td>\n",
       "    </tr>\n",
       "    <tr>\n",
       "      <th>3</th>\n",
       "      <td>94.4</td>\n",
       "      <td>44.1</td>\n",
       "      <td>\\nДвухместный номер с 2 отдельными кроватями\\n</td>\n",
       "      <td>39.812077</td>\n",
       "      <td>3.114725</td>\n",
       "      <td>2.0</td>\n",
       "      <td>11663.0</td>\n",
       "      <td>NaN</td>\n",
       "      <td>8.3</td>\n",
       "      <td>8.0</td>\n",
       "      <td>/hotel/es/alcudi-mar.ru.html?aid=304142;label=...</td>\n",
       "      <td>910.0</td>\n",
       "    </tr>\n",
       "    <tr>\n",
       "      <th>4</th>\n",
       "      <td>NaN</td>\n",
       "      <td>10.9</td>\n",
       "      <td>\\nДвухместный номер с 1 кроватью или 2 отдельн...</td>\n",
       "      <td>39.451314</td>\n",
       "      <td>2.753180</td>\n",
       "      <td>2.0</td>\n",
       "      <td>5575.0</td>\n",
       "      <td>NaN</td>\n",
       "      <td>7.5</td>\n",
       "      <td>10.0</td>\n",
       "      <td>/hotel/es/delta.ru.html?aid=304142;label=gen17...</td>\n",
       "      <td>959.0</td>\n",
       "    </tr>\n",
       "  </tbody>\n",
       "</table>\n",
       "</div>"
      ],
      "text/plain": [
       "   airport1_km  airport2_km  \\\n",
       "0         96.0         46.8   \n",
       "1         73.3         59.3   \n",
       "2         92.1         43.4   \n",
       "3         94.4         44.1   \n",
       "4          NaN         10.9   \n",
       "\n",
       "                                                info   latitude  longitude  \\\n",
       "0     \\nДвухместный номер с 2 отдельными кроватями\\n  39.863388   3.093359   \n",
       "1  \\nДвухместный номер с 1 кроватью или 2 отдельн...  39.636408   3.414423   \n",
       "2     \\nДвухместный номер с 2 отдельными кроватями\\n  39.770315   3.147541   \n",
       "3     \\nДвухместный номер с 2 отдельными кроватями\\n  39.812077   3.114725   \n",
       "4  \\nДвухместный номер с 1 кроватью или 2 отдельн...  39.451314   2.753180   \n",
       "\n",
       "   person_count    price  room_size  score  sightseen_count  \\\n",
       "0           2.0  20465.0        NaN    8.4              8.0   \n",
       "1           2.0  11660.0        NaN    8.9              6.0   \n",
       "2           2.0  15067.0        NaN    9.1              5.0   \n",
       "3           2.0  11663.0        NaN    8.3              8.0   \n",
       "4           2.0   5575.0        NaN    7.5             10.0   \n",
       "\n",
       "                                                 url   votes  \n",
       "0  /hotel/es/pollentia-club-resort.ru.html?aid=30...  2246.0  \n",
       "1  /hotel/es/eurotel-golf-punta-rotja.ru.html?aid...   922.0  \n",
       "2  /hotel/es/santa-fe.ru.html?aid=304142;label=ge...   501.0  \n",
       "3  /hotel/es/alcudi-mar.ru.html?aid=304142;label=...   910.0  \n",
       "4  /hotel/es/delta.ru.html?aid=304142;label=gen17...   959.0  "
      ]
     },
     "execution_count": 3,
     "metadata": {},
     "output_type": "execute_result"
    }
   ],
   "source": [
    "df.head()"
   ]
  },
  {
   "cell_type": "code",
   "execution_count": 4,
   "metadata": {
    "collapsed": true
   },
   "outputs": [],
   "source": [
    "df.room_size = df.room_size.fillna(10)\n",
    "df.airport1_km = df.airport1_km.fillna(150)\n",
    "df.airport2_km = df.airport2_km.fillna(150)\n",
    "df.votes = df.votes.fillna(0)\n",
    "df.score = df.score.fillna(df.score.median())\n",
    "df.sightseen_count = df.sightseen_count.fillna(0)"
   ]
  },
  {
   "cell_type": "code",
   "execution_count": 32,
   "metadata": {},
   "outputs": [],
   "source": [
    "from sklearn.model_selection import train_test_split\n",
    "train_indeces, test_indeces = train_test_split(range(len(df)), shuffle=True, test_size=0.2, random_state=42)"
   ]
  },
  {
   "cell_type": "code",
   "execution_count": 33,
   "metadata": {
    "collapsed": true
   },
   "outputs": [],
   "source": [
    "X = df.drop([\"price\", \"info\", \"url\"], axis=1).values\n",
    "X -= X.mean(axis=0)\n",
    "X /= X.std(axis=0)\n",
    "y = df.price.values"
   ]
  },
  {
   "cell_type": "code",
   "execution_count": 34,
   "metadata": {},
   "outputs": [],
   "source": [
    "X_train, X_test = X[train_indeces], X[test_indeces]\n",
    "y_train, y_test = y[train_indeces], y[test_indeces]"
   ]
  },
  {
   "cell_type": "code",
   "execution_count": 70,
   "metadata": {},
   "outputs": [
    {
     "name": "stdout",
     "output_type": "stream",
     "text": [
      "Baseline RMSE:  12911.4919172\n"
     ]
    }
   ],
   "source": [
    "from sklearn.metrics import mean_squared_error, explained_variance_score\n",
    "\n",
    "y_pred = y_train.mean() + np.zeros(y_test.shape)\n",
    "baseline_score = np.sqrt(mean_squared_error(y_test, y_pred))\n",
    "print(\"Baseline RMSE: \", baseline_score)"
   ]
  },
  {
   "cell_type": "code",
   "execution_count": 231,
   "metadata": {},
   "outputs": [],
   "source": [
    "from sklearn.linear_model import Ridge, Lasso\n",
    "from sklearn.model_selection import cross_val_score, GridSearchCV\n",
    "\n",
    "def plot_score(model, model_name, X_train, y_train, param_name='alpha', param_space=np.logspace(-5, 5, 100), xscale=\"log\"):\n",
    "    errors = []\n",
    "\n",
    "    for alpha in tqdm(param_space):\n",
    "        setattr(model, param_name, alpha)\n",
    "        errors.append(cross_val_score(estimator=model, X=X_train, y=y_train, cv=10, scoring='explained_variance').mean())\n",
    "    \n",
    "    plt.plot(param_space, errors)\n",
    "    plt.xscale(xscale)\n",
    "    plt.ylabel(\"Explained variance\")\n",
    "    plt.xlabel(param_name)\n",
    "    plt.title(\"{model_name} loss\".format(model_name=model_name))\n",
    "    plt.show()\n",
    "        \n",
    "    return errors\n",
    "\n",
    "\n",
    "def show_best_score(model, model_name, param_grid, X_train, y_train, X_test, y_test):\n",
    "    gs = GridSearchCV(model, param_grid=param_grid, cv=10, n_jobs=-1, scoring='explained_variance', verbose=0)\n",
    "    gs.fit(X_train, y_train)\n",
    "    \n",
    "    print(\"Best params:\", gs.best_params_)\n",
    "    \n",
    "    model = gs.best_estimator_\n",
    "    model.fit(X_train, y_train)\n",
    "    y_pred = model.predict(X_test)\n",
    "    \n",
    "    model_score = explained_variance_score(y_test, y_pred)\n",
    "    print(\"{model_name} explained variance:\".format(model_name=model_name), model_score)\n",
    "    model_score = np.sqrt(mean_squared_error(y_test, y_pred))\n",
    "    print(\"{model_name} RMSE:\".format(model_name=model_name), model_score)\n",
    "    print(\"{model_name} update RMSE:\".format(model_name=model_name), (baseline_score - model_score) / baseline_score)"
   ]
  },
  {
   "cell_type": "markdown",
   "metadata": {},
   "source": [
    "Предположение: Данных немного, линейные модели справятся хорошо"
   ]
  },
  {
   "cell_type": "code",
   "execution_count": 213,
   "metadata": {},
   "outputs": [
    {
     "name": "stderr",
     "output_type": "stream",
     "text": [
      "100%|██████████| 100/100 [00:07<00:00, 12.60it/s]\n"
     ]
    },
    {
     "data": {
      "image/png": "[encoded data removed]",
      "text/plain": [
       "<matplotlib.figure.Figure at 0x7f79f27a0ba8>"
      ]
     },
     "metadata": {},
     "output_type": "display_data"
    },
    {
     "name": "stdout",
     "output_type": "stream",
     "text": [
      "Best params: {'alpha': 7742.6368268112774}\n",
      "Lasso explained variance: 0.318992115509\n",
      "Lasso RMSE: 10686.7007487\n",
      "Lasso update RMSE: 0.172310929113\n"
     ]
    }
   ],
   "source": [
    "plot_score(model=Lasso(), model_name='Lasso', X_train=X_train, y_train=y_train)\n",
    "show_best_score(model=Lasso(), model_name='Lasso', param_grid={'alpha': np.logspace(-5, 5, 100)}, X_train=X_train, y_train=y_train, X_test=X_test, y_test=y_test)"
   ]
  },
  {
   "cell_type": "code",
   "execution_count": 214,
   "metadata": {},
   "outputs": [
    {
     "name": "stderr",
     "output_type": "stream",
     "text": [
      "100%|██████████| 100/100 [00:13<00:00,  7.67it/s]\n"
     ]
    },
    {
     "data": {
      "image/png": "[encoded data removed]",
      "text/plain": [
       "<matplotlib.figure.Figure at 0x7f79f2e13240>"
      ]
     },
     "metadata": {},
     "output_type": "display_data"
    },
    {
     "name": "stdout",
     "output_type": "stream",
     "text": [
      "Best params: {'alpha': 599.48425031894089}\n",
      "Ridge explained variance: 0.432560577155\n",
      "Ridge RMSE: 9585.70023099\n",
      "Ridge update RMSE: 0.257583841396\n"
     ]
    }
   ],
   "source": [
    "plot_score(model=Ridge(), model_name='Ridge', X_train=X_train, y_train=y_train)\n",
    "show_best_score(model=Ridge(), model_name='Ridge',  param_grid={'alpha': np.logspace(-5, 5, 100)}, X_train=X_train, y_train=y_train, X_test=X_test, y_test=y_test)"
   ]
  },
  {
   "cell_type": "code",
   "execution_count": 215,
   "metadata": {},
   "outputs": [
    {
     "name": "stderr",
     "output_type": "stream",
     "text": [
      "100%|██████████| 100/100 [00:06<00:00, 15.69it/s]\n"
     ]
    },
    {
     "data": {
      "image/png": "[encoded data removed]",
      "text/plain": [
       "<matplotlib.figure.Figure at 0x7f79f2ef6668>"
      ]
     },
     "metadata": {},
     "output_type": "display_data"
    },
    {
     "name": "stdout",
     "output_type": "stream",
     "text": [
      "Best params: {'C': 464.15888336127819}\n",
      "Linear SVR explained variance: 0.467971060518\n",
      "Linear SVR RMSE: 8779.62129622\n",
      "Linear SVR update RMSE: 0.320014963992\n"
     ]
    }
   ],
   "source": [
    "from sklearn.svm import SVR, LinearSVR\n",
    "param_grid = {'C': np.logspace(0, 4, 100)}\n",
    "\n",
    "plot_score(model=LinearSVR(), model_name=\"Linear SVR\", X_train=X_train, y_train=y_train, param_name=\"C\", param_space=param_grid[\"C\"])\n",
    "show_best_score(model=LinearSVR(), model_name='Linear SVR',  param_grid=param_grid, X_train=X_train, y_train=y_train, X_test=X_test, y_test=y_test)"
   ]
  },
  {
   "cell_type": "code",
   "execution_count": 222,
   "metadata": {},
   "outputs": [
    {
     "name": "stderr",
     "output_type": "stream",
     "text": [
      "100%|██████████| 100/100 [00:36<00:00,  2.78it/s]\n"
     ]
    },
    {
     "data": {
      "image/png": "[encoded data removed]",
      "text/plain": [
       "<matplotlib.figure.Figure at 0x7f79f27b48d0>"
      ]
     },
     "metadata": {},
     "output_type": "display_data"
    },
    {
     "name": "stdout",
     "output_type": "stream",
     "text": [
      "Best params: {'C': 100.0, 'degree': 2}\n",
      "Poly SVR explained variance: 0.320544172193\n",
      "Poly SVR RMSE: 9872.94426192\n",
      "Poly SVR update RMSE: 0.235336681054\n"
     ]
    }
   ],
   "source": [
    "param_grid = {'C': np.logspace(0, 2, 100), \"degree\": [2, 3]}\n",
    "\n",
    "model = SVR(kernel=\"poly\", degree=3)\n",
    "\n",
    "plot_score(model=model, model_name=\"Poly SVR\", X_train=X_train, y_train=y_train, param_name=\"C\", param_space=param_grid[\"C\"])\n",
    "show_best_score(model=model, model_name='Poly SVR',  param_grid=param_grid, X_train=X_train, y_train=y_train, X_test=X_test, y_test=y_test)"
   ]
  },
  {
   "cell_type": "code",
   "execution_count": 223,
   "metadata": {},
   "outputs": [
    {
     "name": "stderr",
     "output_type": "stream",
     "text": [
      "100%|██████████| 100/100 [01:55<00:00,  1.15s/it]\n"
     ]
    },
    {
     "data": {
      "image/png": "[encoded data removed]",
      "text/plain": [
       "<matplotlib.figure.Figure at 0x7f79f27b4668>"
      ]
     },
     "metadata": {},
     "output_type": "display_data"
    },
    {
     "name": "stdout",
     "output_type": "stream",
     "text": [
      "Best params: {'C': 17969.891485325956}\n",
      "RBF SVR explained variance: 0.526555941333\n",
      "RBF SVR RMSE: 8190.86047581\n",
      "RBF SVR update RMSE: 0.365614715297\n"
     ]
    }
   ],
   "source": [
    "param_grid = {'C': np.logspace(4, 5.2, 100), }\n",
    "\n",
    "model = SVR(kernel=\"rbf\")\n",
    "\n",
    "plot_score(model=model, model_name=\"RBF SVR\", X_train=X_train, y_train=y_train, param_name=\"C\", param_space=param_grid[\"C\"])\n",
    "show_best_score(model=model, model_name='RBF SVR',  param_grid=param_grid, X_train=X_train, y_train=y_train, X_test=X_test, y_test=y_test)"
   ]
  },
  {
   "cell_type": "markdown",
   "metadata": {},
   "source": [
    "Лучший результат - SVM с RBF ядром\n",
    "\n",
    "Предположение:\n",
    "\n",
    "1. [+] RBF можно улучшить, добавив координаты\n",
    "1. [-] RBF поход на KNN, возможно, он покажет результаты лучше."
   ]
  },
  {
   "cell_type": "code",
   "execution_count": 224,
   "metadata": {},
   "outputs": [
    {
     "name": "stderr",
     "output_type": "stream",
     "text": [
      "100%|██████████| 100/100 [02:42<00:00,  1.63s/it]\n"
     ]
    },
    {
     "data": {
      "image/png": "[encoded data removed]",
      "text/plain": [
       "<matplotlib.figure.Figure at 0x7f79f2c831d0>"
      ]
     },
     "metadata": {},
     "output_type": "display_data"
    },
    {
     "name": "stdout",
     "output_type": "stream",
     "text": [
      "Best params: {'C': 26560.877829466841}\n",
      "RBF SVR explained variance: 0.603697176174\n",
      "RBF SVR RMSE: 7489.81899442\n",
      "RBF SVR update RMSE: 0.419910646851\n"
     ]
    }
   ],
   "source": [
    "X = df.drop([\"price\", \"info\", \"url\"], axis=1).values\n",
    "X -= X.mean(axis=0)\n",
    "X /= X.std(axis=0)\n",
    "y = df.price.values\n",
    "\n",
    "X_train, X_test = X[train_indeces], X[test_indeces]\n",
    "y_train, y_test = y[train_indeces], y[test_indeces]\n",
    "\n",
    "param_grid = {'C': np.logspace(4, 5.2, 100), }\n",
    "\n",
    "model = SVR(kernel=\"rbf\")\n",
    "\n",
    "plot_score(model=model, model_name=\"RBF SVR\", X_train=X_train, y_train=y_train, param_name=\"C\", param_space=param_grid[\"C\"])\n",
    "show_best_score(model=model, model_name='RBF SVR',  param_grid=param_grid, X_train=X_train, y_train=y_train, X_test=X_test, y_test=y_test)"
   ]
  },
  {
   "cell_type": "code",
   "execution_count": 241,
   "metadata": {},
   "outputs": [
    {
     "name": "stderr",
     "output_type": "stream",
     "text": [
      "100%|██████████| 45/45 [00:04<00:00,  9.99it/s]\n"
     ]
    },
    {
     "data": {
      "image/png": "[encoded data removed]",
      "text/plain": [
       "<matplotlib.figure.Figure at 0x7f7a100247f0>"
      ]
     },
     "metadata": {},
     "output_type": "display_data"
    },
    {
     "name": "stdout",
     "output_type": "stream",
     "text": [
      "Best params: {'n_neighbors': 35}\n",
      "KNN explained variance: 0.570022689584\n",
      "KNN RMSE: 7897.58973904\n",
      "KNN update RMSE: 0.388328646317\n"
     ]
    }
   ],
   "source": [
    "from sklearn.neighbors import KNeighborsRegressor\n",
    "\n",
    "model = KNeighborsRegressor(weights=\"distance\")\n",
    "param_grid = {'n_neighbors': range(5, 50) }\n",
    "\n",
    "plot_score(model=model, model_name=\"KNN\", X_train=X_train, y_train=y_train, param_name=\"n_neighbors\", param_space=param_grid[\"n_neighbors\"], xscale=\"linear\")\n",
    "show_best_score(model=model, model_name='KNN',  param_grid=param_grid, X_train=X_train, y_train=y_train, X_test=X_test, y_test=y_test)"
   ]
  },
  {
   "cell_type": "markdown",
   "metadata": {},
   "source": [
    "Предположение: много информации можно извлечь из названия номера"
   ]
  },
  {
   "cell_type": "code",
   "execution_count": 255,
   "metadata": {},
   "outputs": [],
   "source": [
    "dictionary = dict()\n",
    "for keys in df[\"info\"].str.split():\n",
    "    for key in keys:\n",
    "        dictionary[key] = dictionary.get(key, 0) + 1\n",
    "        \n",
    "dictionary = sorted(([b, a] for a, b in dictionary.items()), reverse=True)"
   ]
  },
  {
   "cell_type": "code",
   "execution_count": 264,
   "metadata": {},
   "outputs": [
    {
     "data": {
      "text/html": [
       "<div>\n",
       "<style>\n",
       "    .dataframe thead tr:only-child th {\n",
       "        text-align: right;\n",
       "    }\n",
       "\n",
       "    .dataframe thead th {\n",
       "        text-align: left;\n",
       "    }\n",
       "\n",
       "    .dataframe tbody tr th {\n",
       "        vertical-align: top;\n",
       "    }\n",
       "</style>\n",
       "<table border=\"1\" class=\"dataframe\">\n",
       "  <thead>\n",
       "    <tr style=\"text-align: right;\">\n",
       "      <th></th>\n",
       "      <th>\"king-size\"/</th>\n",
       "      <th>1</th>\n",
       "      <th>2</th>\n",
       "      <th>×</th>\n",
       "      <th>Апартаменты</th>\n",
       "      <th>Бунгало</th>\n",
       "      <th>Бюджетный</th>\n",
       "      <th>Вилла</th>\n",
       "      <th>Двухместный</th>\n",
       "      <th>Делюкс</th>\n",
       "      <th>...</th>\n",
       "      <th>кроватью</th>\n",
       "      <th>кроватями</th>\n",
       "      <th>море</th>\n",
       "      <th>на</th>\n",
       "      <th>номер</th>\n",
       "      <th>отдельными</th>\n",
       "      <th>отпуска</th>\n",
       "      <th>размера</th>\n",
       "      <th>с</th>\n",
       "      <th>сад</th>\n",
       "    </tr>\n",
       "  </thead>\n",
       "  <tbody>\n",
       "    <tr>\n",
       "      <th>0</th>\n",
       "      <td>0</td>\n",
       "      <td>0</td>\n",
       "      <td>1</td>\n",
       "      <td>0</td>\n",
       "      <td>0</td>\n",
       "      <td>0</td>\n",
       "      <td>0</td>\n",
       "      <td>0</td>\n",
       "      <td>1</td>\n",
       "      <td>0</td>\n",
       "      <td>...</td>\n",
       "      <td>0</td>\n",
       "      <td>1</td>\n",
       "      <td>0</td>\n",
       "      <td>0</td>\n",
       "      <td>1</td>\n",
       "      <td>1</td>\n",
       "      <td>0</td>\n",
       "      <td>0</td>\n",
       "      <td>1</td>\n",
       "      <td>0</td>\n",
       "    </tr>\n",
       "    <tr>\n",
       "      <th>1</th>\n",
       "      <td>0</td>\n",
       "      <td>1</td>\n",
       "      <td>1</td>\n",
       "      <td>0</td>\n",
       "      <td>0</td>\n",
       "      <td>0</td>\n",
       "      <td>0</td>\n",
       "      <td>0</td>\n",
       "      <td>1</td>\n",
       "      <td>0</td>\n",
       "      <td>...</td>\n",
       "      <td>1</td>\n",
       "      <td>1</td>\n",
       "      <td>0</td>\n",
       "      <td>0</td>\n",
       "      <td>1</td>\n",
       "      <td>1</td>\n",
       "      <td>0</td>\n",
       "      <td>0</td>\n",
       "      <td>1</td>\n",
       "      <td>0</td>\n",
       "    </tr>\n",
       "    <tr>\n",
       "      <th>2</th>\n",
       "      <td>0</td>\n",
       "      <td>0</td>\n",
       "      <td>1</td>\n",
       "      <td>0</td>\n",
       "      <td>0</td>\n",
       "      <td>0</td>\n",
       "      <td>0</td>\n",
       "      <td>0</td>\n",
       "      <td>1</td>\n",
       "      <td>0</td>\n",
       "      <td>...</td>\n",
       "      <td>0</td>\n",
       "      <td>1</td>\n",
       "      <td>0</td>\n",
       "      <td>0</td>\n",
       "      <td>1</td>\n",
       "      <td>1</td>\n",
       "      <td>0</td>\n",
       "      <td>0</td>\n",
       "      <td>1</td>\n",
       "      <td>0</td>\n",
       "    </tr>\n",
       "    <tr>\n",
       "      <th>3</th>\n",
       "      <td>0</td>\n",
       "      <td>0</td>\n",
       "      <td>1</td>\n",
       "      <td>0</td>\n",
       "      <td>0</td>\n",
       "      <td>0</td>\n",
       "      <td>0</td>\n",
       "      <td>0</td>\n",
       "      <td>1</td>\n",
       "      <td>0</td>\n",
       "      <td>...</td>\n",
       "      <td>0</td>\n",
       "      <td>1</td>\n",
       "      <td>0</td>\n",
       "      <td>0</td>\n",
       "      <td>1</td>\n",
       "      <td>1</td>\n",
       "      <td>0</td>\n",
       "      <td>0</td>\n",
       "      <td>1</td>\n",
       "      <td>0</td>\n",
       "    </tr>\n",
       "    <tr>\n",
       "      <th>4</th>\n",
       "      <td>0</td>\n",
       "      <td>1</td>\n",
       "      <td>1</td>\n",
       "      <td>0</td>\n",
       "      <td>0</td>\n",
       "      <td>0</td>\n",
       "      <td>0</td>\n",
       "      <td>0</td>\n",
       "      <td>1</td>\n",
       "      <td>0</td>\n",
       "      <td>...</td>\n",
       "      <td>1</td>\n",
       "      <td>1</td>\n",
       "      <td>0</td>\n",
       "      <td>0</td>\n",
       "      <td>1</td>\n",
       "      <td>1</td>\n",
       "      <td>0</td>\n",
       "      <td>0</td>\n",
       "      <td>1</td>\n",
       "      <td>0</td>\n",
       "    </tr>\n",
       "  </tbody>\n",
       "</table>\n",
       "<p>5 rows × 37 columns</p>\n",
       "</div>"
      ],
      "text/plain": [
       "   \"king-size\"/  1  2  ×  Апартаменты  Бунгало  Бюджетный  Вилла  Двухместный  \\\n",
       "0             0  0  1  0            0        0          0      0            1   \n",
       "1             0  1  1  0            0        0          0      0            1   \n",
       "2             0  0  1  0            0        0          0      0            1   \n",
       "3             0  0  1  0            0        0          0      0            1   \n",
       "4             0  1  1  0            0        0          0      0            1   \n",
       "\n",
       "   Делюкс ...   кроватью  кроватями  море  на  номер  отдельными  отпуска  \\\n",
       "0       0 ...          0          1     0   0      1           1        0   \n",
       "1       0 ...          1          1     0   0      1           1        0   \n",
       "2       0 ...          0          1     0   0      1           1        0   \n",
       "3       0 ...          0          1     0   0      1           1        0   \n",
       "4       0 ...          1          1     0   0      1           1        0   \n",
       "\n",
       "   размера  с  сад  \n",
       "0        0  1    0  \n",
       "1        0  1    0  \n",
       "2        0  1    0  \n",
       "3        0  1    0  \n",
       "4        0  1    0  \n",
       "\n",
       "[5 rows x 37 columns]"
      ]
     },
     "execution_count": 264,
     "metadata": {},
     "output_type": "execute_result"
    }
   ],
   "source": [
    "# pd.get_dummies(df[\"info\"].str.split())\n",
    "pd.get_dummies(df[\"info\"].str.split().apply(pd.Series).stack()).sum(level=0).head()"
   ]
  },
  {
   "cell_type": "code",
   "execution_count": 263,
   "metadata": {},
   "outputs": [
    {
     "data": {
      "text/plain": [
       "[[453, 'номер'],\n",
       " [446, 'с'],\n",
       " [443, 'Двухместный'],\n",
       " [344, 'кроватью'],\n",
       " [343, '1'],\n",
       " [238, '2'],\n",
       " [237, 'отдельными'],\n",
       " [237, 'кроватями'],\n",
       " [135, 'или'],\n",
       " [92, 'Апартаменты'],\n",
       " [34, 'Вилла'],\n",
       " [33, 'Номер-студио'],\n",
       " [31, 'Люкс'],\n",
       " [23, 'отпуска'],\n",
       " [23, 'для'],\n",
       " [23, 'Дом'],\n",
       " [3, 'Трехместный'],\n",
       " [3, 'Семейный'],\n",
       " [2, 'на'],\n",
       " [2, 'и'],\n",
       " [2, 'видом'],\n",
       " [2, 'Шале'],\n",
       " [1, 'сад'],\n",
       " [1, 'размера'],\n",
       " [1, 'море'],\n",
       " [1, 'дом'],\n",
       " [1, 'двухместный'],\n",
       " [1, 'балконом'],\n",
       " [1, 'Четырехместный'],\n",
       " [1, 'Улучшенный'],\n",
       " [1, 'Общий'],\n",
       " [1, 'Мобильный'],\n",
       " [1, 'Делюкс'],\n",
       " [1, 'Бюджетный'],\n",
       " [1, 'Бунгало'],\n",
       " [1, '×'],\n",
       " [1, '\"king-size\"/']]"
      ]
     },
     "execution_count": 263,
     "metadata": {},
     "output_type": "execute_result"
    }
   ],
   "source": [
    "dictionary"
   ]
  }
 ],
 "metadata": {
  "kernelspec": {
   "display_name": "Python 3",
   "language": "python",
   "name": "python3"
  },
  "language_info": {
   "codemirror_mode": {
    "name": "ipython",
    "version": 3
   },
   "file_extension": ".py",
   "mimetype": "text/x-python",
   "name": "python",
   "nbconvert_exporter": "python",
   "pygments_lexer": "ipython3",
   "version": "3.6.2"
  }
 },
 "nbformat": 4,
 "nbformat_minor": 2
}
